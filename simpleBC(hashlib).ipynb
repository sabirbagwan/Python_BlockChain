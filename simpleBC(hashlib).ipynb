{
  "nbformat": 4,
  "nbformat_minor": 0,
  "metadata": {
    "colab": {
      "provenance": []
    },
    "kernelspec": {
      "name": "python3",
      "display_name": "Python 3"
    },
    "language_info": {
      "name": "python"
    }
  },
  "cells": [
    {
      "cell_type": "code",
      "execution_count": 1,
      "metadata": {
        "id": "p6JPYIhPuLsh"
      },
      "outputs": [],
      "source": [
        "import hashlib"
      ]
    },
    {
      "cell_type": "code",
      "source": [
        "class Block:\n",
        "    def __init__(self, data, prev_hash):\n",
        "        self.data = data\n",
        "        self.prev_hash = prev_hash\n",
        "        self.hash = self.calc_hash()\n",
        "\n",
        "    def calc_hash(self):\n",
        "        sha = hashlib.sha256()\n",
        "        sha.update(self.data.encode(\"utf-8\"))\n",
        "        return sha.hexdigest()"
      ],
      "metadata": {
        "id": "I0jvGfwaubfT"
      },
      "execution_count": 5,
      "outputs": []
    },
    {
      "cell_type": "code",
      "source": [
        "class Blockchain:\n",
        "    def __init__(self):\n",
        "        self.chain = [self.create_genesis_block()]\n",
        "\n",
        "    def create_genesis_block(self):\n",
        "        return Block(\"Genesis Block\", \"0\")\n",
        "\n",
        "    def add_block(self, data):\n",
        "        prev_block = self.chain[-1]\n",
        "        new_block = Block(data, prev_block.hash)\n",
        "        self.chain.append(new_block)"
      ],
      "metadata": {
        "id": "Q0WHl6CTvErQ"
      },
      "execution_count": 6,
      "outputs": []
    },
    {
      "cell_type": "code",
      "source": [
        "blockchain = Blockchain()"
      ],
      "metadata": {
        "id": "MKiwVQIbv8Dn"
      },
      "execution_count": 7,
      "outputs": []
    },
    {
      "cell_type": "code",
      "source": [
        "blockchain.add_block(\"First Block\")\n",
        "blockchain.add_block(\"Second Block\")\n",
        "blockchain.add_block(\"Third Block\")"
      ],
      "metadata": {
        "id": "SWOJAhP5v-my"
      },
      "execution_count": 8,
      "outputs": []
    },
    {
      "cell_type": "code",
      "source": [
        "print(\"Blockchain: \")\n",
        "for block in blockchain.chain:\n",
        "    print(\"Data: \", block.data)\n",
        "    print(\"Previous Hash: \", block.prev_hash)\n",
        "    print(\"Hash: \", block.hash)\n",
        "    print()"
      ],
      "metadata": {
        "colab": {
          "base_uri": "https://localhost:8080/"
        },
        "id": "OH8-gipswTWB",
        "outputId": "6993f618-2e1d-4c44-b460-6c173951dd17"
      },
      "execution_count": 10,
      "outputs": [
        {
          "output_type": "stream",
          "name": "stdout",
          "text": [
            "Blockchain: \n",
            "Data:  Genesis Block\n",
            "Previous Hash:  0\n",
            "Hash:  89eb0ac031a63d2421cd05a2fbe41f3ea35f5c3712ca839cbf6b85c4ee07b7a3\n",
            "\n",
            "Data:  First Block\n",
            "Previous Hash:  89eb0ac031a63d2421cd05a2fbe41f3ea35f5c3712ca839cbf6b85c4ee07b7a3\n",
            "Hash:  541963a34346a1880a17157517a707e582d79fb8cfb7472074be88d93aabc88e\n",
            "\n",
            "Data:  Second Block\n",
            "Previous Hash:  541963a34346a1880a17157517a707e582d79fb8cfb7472074be88d93aabc88e\n",
            "Hash:  50c9991f8736d9385422d8bb4f863708803184616b3d541058a1f3fc62c638fc\n",
            "\n",
            "Data:  Third Block\n",
            "Previous Hash:  50c9991f8736d9385422d8bb4f863708803184616b3d541058a1f3fc62c638fc\n",
            "Hash:  60581ee0a808db3fc0b36f7325afb9b6f3cfae4f49d4bf90689d7b0d47956b1b\n",
            "\n"
          ]
        }
      ]
    },
    {
      "cell_type": "code",
      "source": [],
      "metadata": {
        "id": "stdztZzIwnkc"
      },
      "execution_count": null,
      "outputs": []
    }
  ]
}